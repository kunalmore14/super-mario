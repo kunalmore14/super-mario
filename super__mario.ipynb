{
 "cells": [
  {
   "cell_type": "code",
   "execution_count": null,
   "id": "54be2a5d",
   "metadata": {},
   "outputs": [],
   "source": [
    "import random\n",
    "\n",
    "class Character:\n",
    "    def __init__(self, name):\n",
    "        self.name = name\n",
    "        self._life = 3\n",
    "        self._score = 0\n",
    "\n",
    "    def kicked(self):\n",
    "        self._score += 10\n",
    "\n",
    "    def punched(self):\n",
    "        self._score += 5\n",
    "\n",
    "    def stabbed(self):\n",
    "        self._life -= 1\n",
    "\n",
    "    def displaylife(self):\n",
    "        return self._life\n",
    "\n",
    "    def displayscore(self):\n",
    "        return self._score\n",
    "\n",
    "player = Character(\"mario\")\n",
    "opponent = Character(\"michael\")\n",
    "\n",
    "while player.displaylife() > 0 and opponent.displaylife() > 0:\n",
    "    action = input(\"Select your action (kicked, punched, or stabbed): \")\n",
    "    if action == \"kicked\":\n",
    "        player.kicked()\n",
    "    elif action == \"punched\":\n",
    "        player.punched()\n",
    "    elif action == \"stabbed\":\n",
    "        player.stabbed()\n",
    "\n",
    "    opponent_action = random.choice([\"kicked\", \"punched\", \"stabbed\"])\n",
    "    if opponent_action == \"kicked\":\n",
    "        opponent.kicked()\n",
    "    elif opponent_action == \"punched\":\n",
    "        opponent.punched()\n",
    "    elif opponent_action == \"stabbed\":\n",
    "        opponent.stabbed()\n",
    "\n",
    "print(\"Final score:\")\n",
    "print(f\"{player.name}: {player.displayscore()} points, {player.displaylife()} lives\")\n",
    "print(f\"{opponent.name}: {opponent.displayscore()} points, {opponent.displaylife()} lives\")\n",
    "if player.displaylife() > 0:\n",
    "    print(f\"{player.name} wins!\")\n",
    "else:\n",
    "    print(f\"{opponent.name} wins!\")"
   ]
  },
  {
   "cell_type": "code",
   "execution_count": null,
   "id": "b4531018",
   "metadata": {},
   "outputs": [],
   "source": []
  }
 ],
 "metadata": {
  "kernelspec": {
   "display_name": "Python 3 (ipykernel)",
   "language": "python",
   "name": "python3"
  },
  "language_info": {
   "codemirror_mode": {
    "name": "ipython",
    "version": 3
   },
   "file_extension": ".py",
   "mimetype": "text/x-python",
   "name": "python",
   "nbconvert_exporter": "python",
   "pygments_lexer": "ipython3",
   "version": "3.9.12"
  }
 },
 "nbformat": 4,
 "nbformat_minor": 5
}
